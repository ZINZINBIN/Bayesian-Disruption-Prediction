{
 "cells": [
  {
   "cell_type": "code",
   "execution_count": 1,
   "metadata": {},
   "outputs": [],
   "source": [
    "import sys, os, torch\n",
    "module_path = os.path.abspath(os.path.join('..'))\n",
    "\n",
    "if module_path not in sys.path:\n",
    "    sys.path.append(module_path)\n",
    "\n",
    "if(torch.cuda.device_count() >= 1):\n",
    "    device = \"cuda:0\"\n",
    "else:\n",
    "    device = 'cpu'\n",
    "\n",
    "# move directory\n",
    "os.chdir(\"..\")"
   ]
  },
  {
   "cell_type": "code",
   "execution_count": 2,
   "metadata": {},
   "outputs": [],
   "source": [
    "import pandas as pd\n",
    "\n",
    "df_disrupt = pd.read_csv(\"./dataset/KSTAR_Disruption_Shot_List_2022.csv\")\n",
    "df_efit = pd.read_csv(\"./dataset/KSTAR_Disruption_ts_data_efit.csv\")\n",
    "df_ece = pd.read_csv(\"./dataset/KSTAR_Disruption_ts_data_ece.csv\")\n",
    "df_diag = pd.read_csv(\"./dataset/KSTAR_Disruption_ts_data_diag.csv\")"
   ]
  },
  {
   "cell_type": "code",
   "execution_count": 3,
   "metadata": {},
   "outputs": [],
   "source": [
    "df_shot = df_diag[df_diag['shot'] == 31964]"
   ]
  },
  {
   "cell_type": "code",
   "execution_count": 4,
   "metadata": {},
   "outputs": [
    {
     "data": {
      "text/plain": [
       "<AxesSubplot:>"
      ]
     },
     "execution_count": 4,
     "metadata": {},
     "output_type": "execute_result"
    },
    {
     "data": {
      "image/png": "[encoded data removed]",
      "text/plain": [
       "<Figure size 432x288 with 1 Axes>"
      ]
     },
     "metadata": {
      "needs_background": "light"
     },
     "output_type": "display_data"
    }
   ],
   "source": [
    "df_shot['\\\\WTOT_DLM03'].plot()"
   ]
  },
  {
   "cell_type": "code",
   "execution_count": 5,
   "metadata": {},
   "outputs": [
    {
     "name": "stderr",
     "output_type": "stream",
     "text": [
      "<ipython-input-5-89399bb2cb0d>:1: SettingWithCopyWarning: \n",
      "A value is trying to be set on a copy of a slice from a DataFrame.\n",
      "Try using .loc[row_indexer,col_indexer] = value instead\n",
      "\n",
      "See the caveats in the documentation: https://pandas.pydata.org/pandas-docs/stable/user_guide/indexing.html#returning-a-view-versus-a-copy\n",
      "  df_shot['\\\\WTOT_DLM03_dt'] = df_shot['\\\\WTOT_DLM03'].diff().fillna(method = \"bfill\").values / df_shot['time'].diff().fillna(method='bfill').values\n"
     ]
    }
   ],
   "source": [
    "df_shot['\\\\WTOT_DLM03_dt'] = df_shot['\\\\WTOT_DLM03'].diff().fillna(method = \"bfill\").values / df_shot['time'].diff().fillna(method='bfill').values"
   ]
  },
  {
   "cell_type": "code",
   "execution_count": 6,
   "metadata": {},
   "outputs": [
    {
     "name": "stderr",
     "output_type": "stream",
     "text": [
      "<ipython-input-6-2ca49f2308b5>:2: SettingWithCopyWarning: \n",
      "A value is trying to be set on a copy of a slice from a DataFrame.\n",
      "Try using .loc[row_indexer,col_indexer] = value instead\n",
      "\n",
      "See the caveats in the documentation: https://pandas.pydata.org/pandas-docs/stable/user_guide/indexing.html#returning-a-view-versus-a-copy\n",
      "  df_shot['Pin'] = df_shot[col_heat].sum(axis = 1).values\n"
     ]
    }
   ],
   "source": [
    "col_heat = ['\\\\EC1_PWR', '\\\\EC2_PWR','\\\\EC3_PWR','\\\\EC4_PWR','\\\\EC5_PWR','\\\\nb11_pnb','\\\\nb12_pnb','\\\\nb13_pnb']\n",
    "df_shot['Pin'] = df_shot[col_heat].sum(axis = 1).values"
   ]
  },
  {
   "cell_type": "code",
   "execution_count": 7,
   "metadata": {},
   "outputs": [
    {
     "name": "stderr",
     "output_type": "stream",
     "text": [
      "<ipython-input-7-c0b8c6eff9f4>:1: SettingWithCopyWarning: \n",
      "A value is trying to be set on a copy of a slice from a DataFrame.\n",
      "Try using .loc[row_indexer,col_indexer] = value instead\n",
      "\n",
      "See the caveats in the documentation: https://pandas.pydata.org/pandas-docs/stable/user_guide/indexing.html#returning-a-view-versus-a-copy\n",
      "  df_shot['tau_e'] = df_shot['Pin'] / df_shot['\\\\WTOT_DLM03']\n"
     ]
    }
   ],
   "source": [
    "df_shot['tau_e'] = df_shot['Pin'] / df_shot['\\\\WTOT_DLM03']"
   ]
  },
  {
   "cell_type": "code",
   "execution_count": 8,
   "metadata": {},
   "outputs": [
    {
     "name": "stderr",
     "output_type": "stream",
     "text": [
      "<ipython-input-8-e2f391a5f92f>:1: SettingWithCopyWarning: \n",
      "A value is trying to be set on a copy of a slice from a DataFrame.\n",
      "Try using .loc[row_indexer,col_indexer] = value instead\n",
      "\n",
      "See the caveats in the documentation: https://pandas.pydata.org/pandas-docs/stable/user_guide/indexing.html#returning-a-view-versus-a-copy\n",
      "  df_shot['tau_e'] = df_shot['tau_e'].apply(lambda x : x if x > 0 else 0)\n"
     ]
    }
   ],
   "source": [
    "df_shot['tau_e'] = df_shot['tau_e'].apply(lambda x : x if x > 0 else 0)"
   ]
  },
  {
   "cell_type": "code",
   "execution_count": 20,
   "metadata": {},
   "outputs": [
    {
     "data": {
      "text/plain": [
       "[<matplotlib.lines.Line2D at 0x2b122066ceb0>]"
      ]
     },
     "execution_count": 20,
     "metadata": {},
     "output_type": "execute_result"
    },
    {
     "data": {
      "image/png": "[encoded data removed]",
      "text/plain": [
       "<Figure size 432x288 with 1 Axes>"
      ]
     },
     "metadata": {
      "needs_background": "light"
     },
     "output_type": "display_data"
    }
   ],
   "source": [
    "import matplotlib.pyplot as plt\n",
    "\n",
    "plt.plot(df_shot.time, df_shot.tau_e)\n",
    "plt.plot(df_shot.time, df_shot.Pin)"
   ]
  },
  {
   "cell_type": "code",
   "execution_count": 22,
   "metadata": {},
   "outputs": [],
   "source": [
    "df_diag['\\\\dWdt'] = [0 for _ in range(len(df_diag))]"
   ]
  },
  {
   "cell_type": "code",
   "execution_count": null,
   "metadata": {},
   "outputs": [],
   "source": [
    "df = df_diag\n",
    "shot_list = df.shot.unique()\n",
    "\n",
    "for shot in shot_list:\n",
    "    \n",
    "    indice = df[df.shot == shot].index.values\n",
    "    \n",
    "    dvl = df['\\\\WTOT_DLM03'].loc[indice].shift(1).fillna(method = 'bfill').values\n",
    "    dvr = df['\\\\WTOT_DLM03'].loc[indice].shift(-1).fillna(method = 'ffill').values\n",
    "    \n",
    "    dtl = df.loc[indice].time.shift(1).fillna(method = 'bfill').values\n",
    "    dtr = df.loc[indice].time.shift(-1).fillna(method = 'ffill').values\n",
    "    \n",
    "    dv = dvr - dvl\n",
    "    dt = dtr - dtl\n",
    "    \n",
    "    df['\\\\dWdt'].loc[indice] = dv / dt"
   ]
  },
  {
   "cell_type": "code",
   "execution_count": 52,
   "metadata": {},
   "outputs": [
    {
     "data": {
      "text/plain": [
       "(5.1, 5.6)"
      ]
     },
     "execution_count": 52,
     "metadata": {},
     "output_type": "execute_result"
    },
    {
     "data": {
      "image/png": "[encoded data removed]",
      "text/plain": [
       "<Figure size 432x288 with 1 Axes>"
      ]
     },
     "metadata": {
      "needs_background": "light"
     },
     "output_type": "display_data"
    }
   ],
   "source": [
    "df_shot = df_diag[df_diag['shot'] == 31964]\n",
    "plt.plot(df_shot.time, df_shot['\\\\dWdt'])\n",
    "plt.xlim([5.1, 5.6])"
   ]
  },
  {
   "cell_type": "code",
   "execution_count": 93,
   "metadata": {},
   "outputs": [
    {
     "data": {
      "text/plain": [
       "<matplotlib.lines.Line2D at 0x2b1230d01640>"
      ]
     },
     "execution_count": 93,
     "metadata": {},
     "output_type": "execute_result"
    },
    {
     "data": {
      "image/png": "[encoded data removed]",
      "text/plain": [
       "<Figure size 432x288 with 1 Axes>"
      ]
     },
     "metadata": {
      "needs_background": "light"
     },
     "output_type": "display_data"
    }
   ],
   "source": [
    "dvl = df_shot['\\\\WTOT_DLM03'].shift(1).fillna(method = 'bfill').values\n",
    "dvr = df_shot['\\\\WTOT_DLM03'].shift(-1).fillna(method = 'ffill').values\n",
    "\n",
    "dtl = df_shot.time.shift(1).fillna(method = 'bfill').values\n",
    "dtr = df_shot.time.shift(-1).fillna(method = 'ffill').values\n",
    "t = df_shot.time.values\n",
    "dv = dvr - dvl\n",
    "dt = dtr - dtl\n",
    "plt.plot(t,dv/dt)\n",
    "plt.xlim([5.1,5.7])\n",
    "plt.axvline(x = t_tq, ymin = 0, ymax = 1, color = \"red\", linestyle = \"dashed\")\n",
    "plt.axvline(x = t_cq, ymin = 0, ymax = 1, color = \"black\", linestyle = \"dashed\")"
   ]
  },
  {
   "cell_type": "code",
   "execution_count": 101,
   "metadata": {},
   "outputs": [
    {
     "name": "stderr",
     "output_type": "stream",
     "text": [
      "<ipython-input-101-0e34ab5e5568>:3: SettingWithCopyWarning: \n",
      "A value is trying to be set on a copy of a slice from a DataFrame.\n",
      "Try using .loc[row_indexer,col_indexer] = value instead\n",
      "\n",
      "See the caveats in the documentation: https://pandas.pydata.org/pandas-docs/stable/user_guide/indexing.html#returning-a-view-versus-a-copy\n",
      "  df_shot['tau_e'] = df_shot[col_heat].sum(axis = 1) / df_shot['\\\\WTOT_DLM03']\n"
     ]
    },
    {
     "data": {
      "text/plain": [
       "(1.0, 5.5)"
      ]
     },
     "execution_count": 101,
     "metadata": {},
     "output_type": "execute_result"
    },
    {
     "data": {
      "image/png": "[encoded data removed]",
      "text/plain": [
       "<Figure size 432x288 with 1 Axes>"
      ]
     },
     "metadata": {
      "needs_background": "light"
     },
     "output_type": "display_data"
    }
   ],
   "source": [
    "t_tq = df_disrupt[df_disrupt.shot == 31964].t_tmq.values\n",
    "t_cq = df_disrupt[df_disrupt.shot == 31964].t_ip_min_fault.values\n",
    "df_shot['tau_e'] = df_shot[col_heat].sum(axis = 1) / df_shot['\\\\WTOT_DLM03']\n",
    "plt.plot(df_shot.time, df_shot['tau_e'] / df_shot['tau_e'].max(), label = 'Tau-e')\n",
    "plt.axvline(x = t_tq, ymin = 0, ymax = 1, color = \"red\", linestyle = \"dashed\")\n",
    "plt.axvline(x = t_cq, ymin = 0, ymax = 1, color = \"black\", linestyle = \"dashed\")\n",
    "plt.legend()\n",
    "plt.xlim([1.0,5.5])"
   ]
  },
  {
   "cell_type": "code",
   "execution_count": 74,
   "metadata": {},
   "outputs": [
    {
     "data": {
      "text/plain": [
       "(5.1, 5.7)"
      ]
     },
     "execution_count": 74,
     "metadata": {},
     "output_type": "execute_result"
    },
    {
     "data": {
      "image/png": "[encoded data removed]",
      "text/plain": [
       "<Figure size 432x288 with 1 Axes>"
      ]
     },
     "metadata": {
      "needs_background": "light"
     },
     "output_type": "display_data"
    }
   ],
   "source": [
    "t_tq = df_disrupt[df_disrupt.shot == 31964].t_tmq.values\n",
    "t_cq = df_disrupt[df_disrupt.shot == 31964].t_ip_min_fault.values\n",
    "plt.plot(df_shot.time, df_shot['\\\\WTOT_DLM03'] / df_shot['\\\\WTOT_DLM03'].max(), label = 'W-tot')\n",
    "plt.plot(df_shot.time, df_shot[col_heat].sum(axis = 1) / df_shot[col_heat].sum(axis = 1).max(), label = 'Heating')\n",
    "plt.plot(df_shot.time, df_shot['\\\\ax3_bolo02:FOO'] / df_shot['\\\\ax3_bolo02:FOO'].max(), label = 'Bolometer')\n",
    "plt.axvline(x = t_tq, ymin = 0, ymax = 1, color = \"red\", linestyle = \"dashed\")\n",
    "plt.axvline(x = t_cq, ymin = 0, ymax = 1, color = \"black\", linestyle = \"dashed\")\n",
    "plt.legend()\n",
    "plt.xlim([5.1,5.7])"
   ]
  },
  {
   "cell_type": "code",
   "execution_count": null,
   "metadata": {},
   "outputs": [],
   "source": [
    "df_efit.head()"
   ]
  },
  {
   "cell_type": "code",
   "execution_count": null,
   "metadata": {},
   "outputs": [],
   "source": [
    "df_ece.describe()"
   ]
  },
  {
   "cell_type": "code",
   "execution_count": null,
   "metadata": {},
   "outputs": [],
   "source": [
    "df_diag.describe()"
   ]
  },
  {
   "cell_type": "code",
   "execution_count": null,
   "metadata": {},
   "outputs": [],
   "source": [
    "df_diag['\\\\RCPPU2B:FOO'].describe()"
   ]
  },
  {
   "cell_type": "code",
   "execution_count": null,
   "metadata": {},
   "outputs": [],
   "source": [
    "df_diag[['\\\\LM01','\\\\LM02','\\\\LM03','\\\\LM04']].isna().sum().values"
   ]
  },
  {
   "cell_type": "code",
   "execution_count": null,
   "metadata": {},
   "outputs": [],
   "source": [
    "df_diag[['\\\\BETAP_DLM03','\\\\DMF_DLM03','\\\\DLM01','\\\\DLM03','\\\\WTOT_DLM03']].isna().sum().values"
   ]
  },
  {
   "cell_type": "code",
   "execution_count": null,
   "metadata": {},
   "outputs": [],
   "source": [
    "df_diag[['\\\\HCMIL01','\\\\HCMIL02','\\\\HCMIL03','\\\\HCMIL04','\\\\HCMIL05','\\\\HCMIL06','\\\\HCMIL07','\\\\HCMIL08','\\\\HCMIL09','\\\\HCMIL10',\n",
    "            '\\\\HCMIL11','\\\\HCMIL12','\\\\HCMIL13','\\\\HCMIL14','\\\\HCMIL15','\\\\HCMIL16','\\\\HCMID01','\\\\HCMID02','\\\\HCMID03','\\\\HCMID04',\n",
    "            '\\\\HCMID05','\\\\HCMID06','\\\\HCMID07','\\\\HCMID08','\\\\HCMCD01','\\\\HCMCD02','\\\\HCMCD03','\\\\HCMCD04','\\\\HCMCD05','\\\\HCMCD06',\n",
    "            '\\\\HCMCD07','\\\\HCMCD08','\\\\HCMCD09','\\\\HCMCD10','\\\\HCMCD11','\\\\HCMCD12','\\\\HCMCD13','\\\\HCMCD14','\\\\HCMCD15','\\\\HCMCD16',\n",
    "            '\\\\HCMOD01','\\\\HCMOD02','\\\\HCMOD03','\\\\HCMOD04','\\\\HCMOD05','\\\\HCMOD06','\\\\HCMOD07','\\\\HCMOD08']].isna().sum().values"
   ]
  },
  {
   "cell_type": "code",
   "execution_count": null,
   "metadata": {},
   "outputs": [],
   "source": [
    "df_diag[['\\\\BETAP_DLM03','\\\\DMF_DLM03','\\\\DLM01','\\\\DLM03','\\\\WTOT_DLM03']].isna().sum().values"
   ]
  },
  {
   "cell_type": "code",
   "execution_count": null,
   "metadata": {},
   "outputs": [],
   "source": [
    "df_diag[['\\\\LM01','\\\\LM02','\\\\LM03','\\\\LM04']].isna().sum().values"
   ]
  },
  {
   "cell_type": "code",
   "execution_count": null,
   "metadata": {},
   "outputs": [],
   "source": [
    "df_diag[df_diag['\\\\HCMIL01'].isna()].shot.unique()"
   ]
  },
  {
   "cell_type": "code",
   "execution_count": null,
   "metadata": {},
   "outputs": [],
   "source": [
    "df_diag[['\\\\ne_inter01','\\\\ne_tci01','\\\\ne_tci02','\\\\ne_tci03','\\\\ne_tci04','\\\\ne_tci05']].isna().sum().values"
   ]
  },
  {
   "cell_type": "code",
   "execution_count": null,
   "metadata": {},
   "outputs": [],
   "source": [
    "df_diag[['\\\\LV01','\\\\LV12','\\\\LV23','\\\\LV34','\\\\LV45']].isna().sum().values"
   ]
  },
  {
   "cell_type": "code",
   "execution_count": null,
   "metadata": {},
   "outputs": [],
   "source": [
    "df_diag[['\\\\RC01','\\\\RC02','\\\\RC03','\\\\VCM01','\\\\VCM02','\\\\VCM03','\\\\RCPPU1','\\\\RCPPL1']].isna().sum().values"
   ]
  },
  {
   "cell_type": "code",
   "execution_count": null,
   "metadata": {},
   "outputs": [],
   "source": [
    "df_diag[['\\\\TOR_HA01','\\\\TOR_HA02','\\\\TOR_HA03','\\\\TOR_HA04','\\\\TOR_HA05','\\\\TOR_HA06','\\\\TOR_HA07','\\\\TOR_HA08',\n",
    "        '\\\\TOR_HA09','\\\\TOR_HA10','\\\\TOR_HA11','\\\\TOR_HA12','\\\\TOR_HA13','\\\\TOR_HA14','\\\\TOR_HA15','\\\\TOR_HA16','\\\\TOR_HA17',\n",
    "        '\\\\TOR_HA18','\\\\TOR_HA19','\\\\TOR_HA20','\\\\POL_HA01','\\\\POL_HA02','\\\\POL_HA03','\\\\POL_HA04','\\\\POL_HA05',\n",
    "        '\\\\POL_HA06','\\\\POL_HA07','\\\\POL_HA08','\\\\POL_HA09','\\\\POL_HA10']].isna().sum().values"
   ]
  },
  {
   "cell_type": "code",
   "execution_count": null,
   "metadata": {},
   "outputs": [],
   "source": [
    "df_diag[df_diag['\\\\TOR_HA13'].isna()].shot.unique()"
   ]
  },
  {
   "cell_type": "code",
   "execution_count": null,
   "metadata": {},
   "outputs": [],
   "source": [
    "df_diag[['\\\\EC2_PWR','\\\\EC3_PWR', '\\\\EC4_PWR']].isna().sum().values"
   ]
  },
  {
   "cell_type": "code",
   "execution_count": null,
   "metadata": {},
   "outputs": [],
   "source": [
    "df_diag[['\\\\nb11_pnb','\\\\nb12_pnb','\\\\nb13_pnb']].isna().sum().values"
   ]
  },
  {
   "cell_type": "code",
   "execution_count": null,
   "metadata": {},
   "outputs": [],
   "source": [
    "df_diag[['\\\\ax3_bolo02:FOO']].isna().sum().values"
   ]
  },
  {
   "cell_type": "code",
   "execution_count": null,
   "metadata": {},
   "outputs": [],
   "source": [
    "import numpy as np\n",
    "df_diag[df_diag['\\\\ax3_bolo02:FOO'].isna()].shot.unique()"
   ]
  },
  {
   "cell_type": "code",
   "execution_count": null,
   "metadata": {},
   "outputs": [],
   "source": [
    "df_diag[df_diag['\\\\RCPPU2B:FOO'].isna()].shot.unique()"
   ]
  },
  {
   "cell_type": "code",
   "execution_count": null,
   "metadata": {},
   "outputs": [],
   "source": [
    "df_diag[df_diag['\\\\RCPPL1'].isna()].shot.unique()"
   ]
  },
  {
   "cell_type": "code",
   "execution_count": null,
   "metadata": {},
   "outputs": [],
   "source": [
    "df_diag['\\\\RCPPL1'].describe()"
   ]
  },
  {
   "cell_type": "code",
   "execution_count": null,
   "metadata": {},
   "outputs": [],
   "source": [
    "df_diag['\\\\RCPPU1'].describe()"
   ]
  },
  {
   "cell_type": "code",
   "execution_count": null,
   "metadata": {},
   "outputs": [],
   "source": [
    "df_diag[df_diag['\\\\RCPPU1'].isna()].shot.unique()"
   ]
  },
  {
   "cell_type": "code",
   "execution_count": null,
   "metadata": {},
   "outputs": [],
   "source": [
    "df_diag[df_diag['\\\\RCPPL2B:FOO'].isna()].shot.unique()"
   ]
  },
  {
   "cell_type": "code",
   "execution_count": null,
   "metadata": {},
   "outputs": [],
   "source": [
    "len(df_diag[df_diag['\\\\ne_inter01'].isna()].shot.unique())"
   ]
  },
  {
   "cell_type": "code",
   "execution_count": null,
   "metadata": {},
   "outputs": [],
   "source": [
    "df_diag[df_diag.shot.isin(df_diag.shot.unique()[-100:])].shot.unique()"
   ]
  },
  {
   "cell_type": "code",
   "execution_count": null,
   "metadata": {},
   "outputs": [],
   "source": [
    "df_diag[['\\\\ne_tci01','\\\\ne_tci02','\\\\ne_tci03','\\\\ne_tci04','\\\\ne_tci05']].isna().sum().values"
   ]
  },
  {
   "cell_type": "code",
   "execution_count": null,
   "metadata": {},
   "outputs": [],
   "source": [
    "df_diag[df_diag['\\\\ne_tci01'].isna()].shot.unique()"
   ]
  },
  {
   "cell_type": "code",
   "execution_count": null,
   "metadata": {},
   "outputs": [],
   "source": [
    "df_diag[df_diag['\\\\ne_tci02'].isna()].shot.unique()"
   ]
  },
  {
   "cell_type": "code",
   "execution_count": null,
   "metadata": {},
   "outputs": [],
   "source": [
    "df_diag[df_diag['\\\\ne_tci03'].isna()].shot.unique()"
   ]
  },
  {
   "cell_type": "code",
   "execution_count": null,
   "metadata": {},
   "outputs": [],
   "source": [
    "df_diag[df_diag['\\\\ne_tci04'].isna()].shot.unique()"
   ]
  },
  {
   "cell_type": "code",
   "execution_count": null,
   "metadata": {},
   "outputs": [],
   "source": [
    "df_diag[df_diag['\\\\ne_tci05'].isna()].shot.unique()"
   ]
  },
  {
   "cell_type": "code",
   "execution_count": null,
   "metadata": {},
   "outputs": [],
   "source": [
    "df_diag.shot.unique()"
   ]
  },
  {
   "cell_type": "code",
   "execution_count": null,
   "metadata": {},
   "outputs": [],
   "source": [
    "df_diag[['\\\\LV01','\\\\LV12','\\\\LV23','\\\\LV34','\\\\LV45']].isna().sum()"
   ]
  },
  {
   "cell_type": "code",
   "execution_count": null,
   "metadata": {},
   "outputs": [],
   "source": [
    "df_diag[df_diag['\\\\LV45'].isna()].shot.unique()"
   ]
  },
  {
   "cell_type": "code",
   "execution_count": null,
   "metadata": {},
   "outputs": [],
   "source": [
    "len(df_diag[df_diag['\\\\RCPPL2B:FOO'].isna()].shot.unique())"
   ]
  },
  {
   "cell_type": "code",
   "execution_count": null,
   "metadata": {},
   "outputs": [],
   "source": [
    "len(df_diag[df_diag['\\\\EC4_PWR'].isna()].shot.unique())"
   ]
  },
  {
   "cell_type": "code",
   "execution_count": null,
   "metadata": {},
   "outputs": [],
   "source": [
    "df_ece[['\\\\ECE08', '\\\\ECE13', '\\\\ECE18', '\\\\ECE24', '\\\\ECE26','\\\\ECE32', '\\\\ECE37', '\\\\ECE42', '\\\\ECE54', '\\\\ECE63', '\\\\ECE67', '\\\\ECE73']].isna().sum()"
   ]
  },
  {
   "cell_type": "code",
   "execution_count": null,
   "metadata": {},
   "outputs": [],
   "source": [
    "df_ece[df_ece['\\\\ECE73'].isna()].shot.unique()"
   ]
  },
  {
   "cell_type": "code",
   "execution_count": null,
   "metadata": {},
   "outputs": [],
   "source": [
    "import pandas as pd\n",
    "\n",
    "df = pd.read_csv(\"./results/TCN_dist_4_Focal_Normal_Robust_TQ_seed_42_eval_detail.csv\")"
   ]
  },
  {
   "cell_type": "code",
   "execution_count": null,
   "metadata": {},
   "outputs": [],
   "source": [
    "df.head()"
   ]
  },
  {
   "cell_type": "code",
   "execution_count": null,
   "metadata": {},
   "outputs": [],
   "source": [
    "df[(df.task == 'test') & (df.success == False)].sort_values(['shot', 'dist'])"
   ]
  },
  {
   "cell_type": "code",
   "execution_count": null,
   "metadata": {},
   "outputs": [],
   "source": [
    "df[(df.task == 'test') & (df.success == False)].sort_values(['shot', 'dist'])[0:10]"
   ]
  },
  {
   "cell_type": "code",
   "execution_count": null,
   "metadata": {},
   "outputs": [],
   "source": [
    "new_df = df[(df.task == 'test') & (df.success == False)].sort_values(['shot', 'dist'])\n",
    "new_df.to_csv(\"./file.csv\", index=False)"
   ]
  },
  {
   "cell_type": "code",
   "execution_count": null,
   "metadata": {},
   "outputs": [],
   "source": [
    "df[(df.task == 'test') & (df.success == False)].shot.unique()"
   ]
  },
  {
   "cell_type": "code",
   "execution_count": null,
   "metadata": {},
   "outputs": [],
   "source": [
    "n_total = len(df[(df.task == 'train')].shot.unique())\n",
    "n_failure = len(df[(df.task == 'train') & (df.success == False)].shot.unique())\n",
    "\n",
    "print(\"shot failed to predict disruption : {} / {}\".format(n_failure, n_total))"
   ]
  },
  {
   "cell_type": "code",
   "execution_count": null,
   "metadata": {},
   "outputs": [],
   "source": [
    "n_total = len(df[(df.task == 'test')].shot.unique())\n",
    "n_failure = len(df[(df.task == 'test') & (df.success == False)].shot.unique())\n",
    "\n",
    "print(\"shot failed to predict disruption : {} / {}\".format(n_failure, n_total))"
   ]
  },
  {
   "cell_type": "code",
   "execution_count": null,
   "metadata": {},
   "outputs": [],
   "source": [
    "df_efit= pd.read_csv(\"./dataset/Bayesian_Disruption_efit.csv\")\n",
    "df_ece=pd.read_csv(\"./dataset/Bayesian_Disruption_ece.csv\")\n",
    "df_diag=pd.read_csv(\"./dataset/Bayesian_Disruptionn_diag.csv\")\n",
    "df_ts=pd.read_csv(\"./dataset/Bayesian_Disruption_thomson.csv\")"
   ]
  },
  {
   "cell_type": "markdown",
   "metadata": {},
   "source": [
    "# Model performance comparison"
   ]
  },
  {
   "cell_type": "code",
   "execution_count": null,
   "metadata": {},
   "outputs": [],
   "source": []
  },
  {
   "cell_type": "code",
   "execution_count": null,
   "metadata": {},
   "outputs": [],
   "source": [
    "import matplotlib.pyplot as plt\n",
    "\n",
    "df_shot = df_extend[df_extend.shot == 21310]\n",
    "x = df_shot.time\n",
    "y = df_shot['\\\\RC03']\n",
    "\n",
    "t_tmq = df_disrupt[df_disrupt.shot == 21310]['t_tmq'].values\n",
    "plt.plot(x,y)\n",
    "plt.axvline(t_tmq, ymin = 0, ymax = 1, c = 'k')\n",
    "plt.xlim([5, 6])"
   ]
  },
  {
   "cell_type": "code",
   "execution_count": null,
   "metadata": {},
   "outputs": [],
   "source": [
    "df_disrupt.shot.unique()"
   ]
  },
  {
   "cell_type": "code",
   "execution_count": null,
   "metadata": {},
   "outputs": [],
   "source": [
    "df.head()"
   ]
  },
  {
   "cell_type": "code",
   "execution_count": null,
   "metadata": {},
   "outputs": [],
   "source": [
    "df_extend.head()"
   ]
  },
  {
   "cell_type": "code",
   "execution_count": null,
   "metadata": {},
   "outputs": [],
   "source": [
    "df_disrupt.head()"
   ]
  },
  {
   "cell_type": "code",
   "execution_count": null,
   "metadata": {},
   "outputs": [],
   "source": [
    "len(df_disrupt.shot.unique())"
   ]
  },
  {
   "cell_type": "code",
   "execution_count": null,
   "metadata": {},
   "outputs": [],
   "source": [
    "len(df_extend.shot.unique())"
   ]
  },
  {
   "cell_type": "code",
   "execution_count": null,
   "metadata": {},
   "outputs": [],
   "source": [
    "from src.config import Config\n",
    "config = Config()"
   ]
  },
  {
   "cell_type": "code",
   "execution_count": null,
   "metadata": {},
   "outputs": [],
   "source": [
    "import matplotlib.pyplot as plt\n",
    "\n",
    "shot = 21747\n",
    "t_flattop_start = df_disrupt[df_disrupt.shot == shot].t_flattop_start.values.item()\n",
    "t_tmq_ECE = df_disrupt[df_disrupt.shot == shot].t_tmq_ECE.values.item()\n",
    "t_tmq = df_disrupt[df_disrupt.shot == shot].t_tmq.values.item()\n",
    "t_tmq_dmf = df_disrupt[df_disrupt.shot == shot].t_tmq_dmf.values.item()\n",
    "t_ip_min_fault = df_disrupt[df_disrupt.shot == shot].t_ip_min_fault.values.item()\n",
    "\n",
    "print(\"t_flattop : {:.3f} | t_tmq : {:.3f} | t_ip_min_fault : {:.3f}\".format(t_flattop_start, t_tmq, t_ip_min_fault))\n",
    "\n",
    "df_shot = df_extend[df_extend.shot == shot]\n",
    "\n",
    "time_x = df_shot['time']\n",
    "betap = df_shot['\\\\betap']\n",
    "\n",
    "plt.plot(time_x, betap)\n",
    "plt.axvline(x = t_tmq, ymin = 0, ymax = 1, label = \"thermal quench\")\n",
    "plt.axvline(x = t_ip_min_fault, ymin = 0, ymax = 1, label = \"current quench\")\n",
    "plt.legend()"
   ]
  },
  {
   "cell_type": "code",
   "execution_count": null,
   "metadata": {},
   "outputs": [],
   "source": [
    "# Temperature profile fitting\n",
    "t0 = time_x.iloc[-256]\n",
    "t1 = time_x.iloc[-128]\n",
    "t2 = time_x.iloc[-24]\n",
    "\n",
    "print(\"t0 : {:.3f}\".format(t0))\n",
    "print(\"t1 : {:.3f}\".format(t1))\n",
    "print(\"t2 : {:.3f}\".format(t2))\n",
    "\n",
    "cols_te_core = config.TS_TE_CORE_COLS\n",
    "cols_te_edge = config.TS_TE_EDGE_COLS\n",
    "\n",
    "from typing import List\n",
    "from scipy.interpolate import interp1d\n",
    "\n",
    "CORE_RADIUS = [1.797, 1.818, 1.841, 1.862, 1.884, 1.908, 1.931, 1.954, 1.979, 2.004, 2.03, 2.056, 2.082, 2.108]\n",
    "EDGE_RADIUS = [2.108, 2.120, 2.133, 2.146, 2.153, 2.171, 2.183, 2.190, 2.197, 2.203, 2.209, 2.216, 2.229, 2.243]\n",
    "\n",
    "def get_point_profile(df_shot : pd.DataFrame, cols : List, t):\n",
    "    tp = df_shot[df_shot.time == t][cols].values.reshape(-1,)\n",
    "    return tp\n",
    "\n",
    "import matplotlib.pyplot as plt\n",
    "import numpy as np\n",
    "\n",
    "te_core_t0 = get_point_profile(df_shot, cols_te_core, t0)\n",
    "te_edge_t0 = get_point_profile(df_shot, cols_te_edge, t0)\n",
    "\n",
    "te_core_t1 = get_point_profile(df_shot, cols_te_core, t1)\n",
    "te_edge_t1 = get_point_profile(df_shot, cols_te_edge, t1)\n",
    "\n",
    "te_core_t2 = get_point_profile(df_shot, cols_te_core, t2)\n",
    "te_edge_t2 = get_point_profile(df_shot, cols_te_edge, t2)\n",
    "\n",
    "def interpolate(radius, te, n_points : int):\n",
    "    r_min = radius[0]\n",
    "    r_max = radius[-1]\n",
    "    \n",
    "    r_new = np.linspace(r_min, r_max, n_points, endpoint=True)\n",
    "    fn = interp1d(radius, te, kind = 'cubic')\n",
    "    \n",
    "    te_interpolate = fn(r_new)\n",
    "    return r_new, te_interpolate\n",
    "    \n",
    "r_core, te_core_t0 = interpolate(CORE_RADIUS, te_core_t0, 128)\n",
    "_, te_core_t1 = interpolate(CORE_RADIUS, te_core_t1, 128)\n",
    "_, te_core_t2 = interpolate(CORE_RADIUS, te_core_t2, 128)\n",
    "\n",
    "r_edge, te_edge_t0 = interpolate(EDGE_RADIUS, te_edge_t0, 128)\n",
    "_, te_edge_t1 = interpolate(EDGE_RADIUS, te_edge_t1, 128)\n",
    "_, te_edge_t2 = interpolate(EDGE_RADIUS, te_edge_t2, 128)\n",
    "\n",
    "fig, ax = plt.subplots(1,1,figsize = (12,6))\n",
    "ax.plot(r_core, te_core_t0, 'b-', label = 'Te-core : {:.3f}s'.format(t0))\n",
    "ax.plot(r_edge, te_edge_t0, 'b--', label = 'Te-edge : {:.3f}s'.format(t0))\n",
    "\n",
    "ax.plot(r_core, te_core_t1, 'k-', label = 'Te-core : {:.3f}s'.format(t1))\n",
    "ax.plot(r_edge, te_edge_t1, 'k--', label = 'Te-edge : {:.3f}s'.format(t1))\n",
    "\n",
    "ax.plot(r_core, te_core_t2, 'r-', label = 'Te-core : {:.3f}s'.format(t2))\n",
    "ax.plot(r_edge, te_edge_t2, 'r--', label = 'Te-edge : {:.3f}s'.format(t2))\n",
    "\n",
    "ax.axvline(0.5 * CORE_RADIUS[-1] + 0.5 * EDGE_RADIUS[0], ymin = 0, ymax = 1, c='k')\n",
    "ax.set_xlabel(\"Radius[m]\")\n",
    "ax.set_ylabel(\"Tempeature[kev]\")\n",
    "ax.legend()\n",
    "\n",
    "# r mid out\n",
    "# TS -> ECE\n",
    "# ne degradation\n",
    "# TCI interferometer\n",
    "# ne_inter01\n",
    "# HL transition shot searching"
   ]
  },
  {
   "cell_type": "code",
   "execution_count": null,
   "metadata": {},
   "outputs": [],
   "source": [
    "import numpy as np\n",
    "import matplotlib.pyplot as plt\n",
    "import matplotlib.colors as colors\n",
    "import matplotlib.cbook as cbook\n",
    "from matplotlib import cm\n",
    "\n",
    "def get_te_profile(df_shot : pd.DataFrame, t:float, n_points : int = 128):\n",
    "    te_core = get_point_profile(df_shot, cols_te_core, t)\n",
    "    te_edge = get_point_profile(df_shot, cols_te_edge, t)\n",
    "    te = np.concatenate((te_core, te_edge[1:]))\n",
    "    RADIUS = CORE_RADIUS + EDGE_RADIUS[1:]\n",
    "    r, te = interpolate(RADIUS, te, n_points)\n",
    "    te = np.clip(te, a_min = 0.1, a_max = np.inf)\n",
    "    return r, te\n",
    "\n",
    "z = []\n",
    "for t in time_x:\n",
    "    r, te = get_te_profile(df_shot, t, 128)\n",
    "    z.append(te.reshape(-1,1))\n",
    "\n",
    "z = np.concatenate(z, axis = 1)\n",
    "x, y = np.meshgrid(time_x, r)\n",
    "\n",
    "fig, ax = plt.subplots(figsize=(13, 4))\n",
    "pcm = ax.pcolor(x,y,z, cmap='Reds', shading = 'auto', norm=colors.LogNorm(vmin=z.min(), vmax=z.max()))\n",
    "\n",
    "fig.colorbar(pcm, ax=ax)\n",
    "plt.show()"
   ]
  },
  {
   "cell_type": "code",
   "execution_count": null,
   "metadata": {},
   "outputs": [],
   "source": [
    "plt.imshow(z[:,0:40])"
   ]
  },
  {
   "cell_type": "code",
   "execution_count": null,
   "metadata": {},
   "outputs": [],
   "source": [
    "from matplotlib import cbook\n",
    "from matplotlib import cm\n",
    "from matplotlib.colors import LightSource\n",
    "import matplotlib.pyplot as plt\n",
    "import numpy as np\n",
    "\n",
    "# Set up plot\n",
    "fig, ax = plt.subplots(subplot_kw=dict(projection='3d'))\n",
    "\n",
    "ls = LightSource(270, 45)\n",
    "# To use a custom hillshading mode, override the built-in shading and pass\n",
    "# in the rgb colors of the shaded surface calculated from \"shade\".\n",
    "rgb = ls.shade(z, cmap=cm.gist_earth, vert_exag=0.1, blend_mode='soft')\n",
    "surf = ax.plot_surface(x, y, z, rstride=1, cstride=1, facecolors=rgb,\n",
    "                       linewidth=0, antialiased=False, shade=False)\n",
    "\n",
    "plt.show()"
   ]
  },
  {
   "cell_type": "code",
   "execution_count": null,
   "metadata": {},
   "outputs": [],
   "source": [
    "import numpy as np\n",
    "import matplotlib.pyplot as plt\n",
    "profiles = np.load(\"./dataset/profiles.npz\")\n",
    "te_profile = profiles['te']\n",
    "plt.imshow(te_profile[0:128,:])"
   ]
  },
  {
   "cell_type": "code",
   "execution_count": null,
   "metadata": {},
   "outputs": [],
   "source": [
    "# Magnetic loop signal\n",
    "cols_lm = config.LM\n",
    "time_x =  df_shot.time.values\n",
    "lm01 = df_shot[cols_lm[0]].values\n",
    "lm02 = df_shot[cols_lm[1]].values\n",
    "lm03 = df_shot[cols_lm[2]].values\n",
    "lm04 = df_shot[cols_lm[3]].values\n",
    "\n",
    "t_tmq = df_disrupt[df_disrupt.shot == 21747].t_tmq.item()\n",
    "t_ip = df_disrupt[df_disrupt.shot == 21747].t_ip_min_fault.item()\n",
    "\n",
    "plt.plot(time_x, lm01, label = 'LM01')\n",
    "plt.plot(time_x, lm02, label = 'LM02')\n",
    "plt.plot(time_x, lm03, label = 'LM03')\n",
    "plt.plot(time_x, lm04, label = 'LM04')\n",
    "plt.axvline(t_tmq, ymin = 0, ymax = 1, c = 'k', label = 'tmq')\n",
    "plt.axvline(t_ip, ymin = 0, ymax = 1, c = 'r', label = 'cq')\n",
    "plt.legend()\n",
    "plt.xlabel(\"time(s)\")\n",
    "plt.ylabel(\"Lock Mode signal\")\n",
    "plt.xlim([9,12])\n",
    "plt.show()"
   ]
  },
  {
   "cell_type": "code",
   "execution_count": null,
   "metadata": {},
   "outputs": [],
   "source": [
    "freq_lm = np.fft.fftfreq(len(time_x))\n",
    "lm01_f = abs(np.fft.fft(lm01) / len(lm01))\n",
    "lm02_f = abs(np.fft.fft(lm02) / len(lm02))\n",
    "lm03_f = abs(np.fft.fft(lm03) / len(lm03))\n",
    "lm04_f = abs(np.fft.fft(lm04) / len(lm04))\n",
    "\n",
    "plt.plot(freq_lm, lm01_f, label = 'fourier-lm01')\n",
    "plt.plot(freq_lm, lm02_f, label = 'fourier-lm02')\n",
    "plt.plot(freq_lm, lm03_f, label = 'fourier-lm03')\n",
    "plt.plot(freq_lm, lm04_f, label = 'fourier-lm04')\n",
    "plt.legend()"
   ]
  },
  {
   "cell_type": "code",
   "execution_count": null,
   "metadata": {},
   "outputs": [],
   "source": [
    "plt.plot(time_x[0:64], lm01[0:64])"
   ]
  },
  {
   "cell_type": "code",
   "execution_count": null,
   "metadata": {},
   "outputs": [],
   "source": [
    "from scipy import signal\n",
    "t = time_x\n",
    "lm01 = lm01[0:32]\n",
    "lm02 = lm02[0:32]\n",
    "lm03 = lm03[0:32]\n",
    "lm04 = lm04[0:32]\n",
    "\n",
    "f, t, Zxx = signal.stft(lm01, 1, nperseg = 16)\n",
    "plt.pcolormesh(t,f,np.abs(Zxx), shading = 'gouraud')\n",
    "plt.title('STFT Magnitude')\n",
    "plt.ylabel('Frequency [Hz]')\n",
    "plt.xlabel('Time [sec]')"
   ]
  },
  {
   "cell_type": "code",
   "execution_count": null,
   "metadata": {},
   "outputs": [],
   "source": [
    "f, t, Zxx = signal.stft(lm02, 1, nperseg = 16)\n",
    "plt.pcolormesh(t,f,np.abs(Zxx), shading = 'gouraud')\n",
    "plt.title('STFT Magnitude')\n",
    "plt.ylabel('Frequency [Hz]')\n",
    "plt.xlabel('Time [sec]')"
   ]
  },
  {
   "cell_type": "code",
   "execution_count": null,
   "metadata": {},
   "outputs": [],
   "source": [
    "f, t, Zxx = signal.stft(lm03, 1, nperseg = 16)\n",
    "plt.pcolormesh(t,f,np.abs(Zxx), shading = 'gouraud')\n",
    "plt.title('STFT Magnitude')\n",
    "plt.ylabel('Frequency [Hz]')\n",
    "plt.xlabel('Time [sec]')"
   ]
  },
  {
   "cell_type": "code",
   "execution_count": null,
   "metadata": {},
   "outputs": [],
   "source": [
    "f, t, Zxx = signal.stft(lm04, 1, nperseg = 16)\n",
    "plt.pcolormesh(t,f,np.abs(Zxx), shading = 'gouraud')\n",
    "plt.title('STFT Magnitude')\n",
    "plt.ylabel('Frequency [Hz]')\n",
    "plt.xlabel('Time [sec]')"
   ]
  },
  {
   "cell_type": "code",
   "execution_count": null,
   "metadata": {},
   "outputs": [],
   "source": [
    "time_x = df_extend[df_extend.shot == 21310].time\n",
    "y = df_extend[df_extend.shot == 21310]['\\\\betap']\n",
    "\n",
    "plt.plot(time_x, y, label = 'betap')\n",
    "plt.legend()\n",
    "plt.show()"
   ]
  },
  {
   "cell_type": "code",
   "execution_count": null,
   "metadata": {},
   "outputs": [],
   "source": [
    "import seaborn as sns\n",
    "import matplotlib.pyplot as plt\n",
    "\n",
    "plt.figure(figsize = (28,4))\n",
    "df.isnull().sum()[df.isnull().sum() > 0].plot(kind = 'bar')"
   ]
  },
  {
   "cell_type": "code",
   "execution_count": null,
   "metadata": {},
   "outputs": [],
   "source": [
    "df.shot.unique()"
   ]
  },
  {
   "cell_type": "code",
   "execution_count": null,
   "metadata": {},
   "outputs": [],
   "source": [
    "import numpy as np\n",
    "from tqdm.auto import tqdm\n",
    "\n",
    "shot_list = np.unique(df.shot)\n",
    "null_shot_list = []\n",
    "null_col_list = []\n",
    "\n",
    "for shot in tqdm(shot_list):\n",
    "    df_shot = df[df.shot == shot]\n",
    "    total_len = len(df_shot)\n",
    "    \n",
    "    for col in null_cols:\n",
    "        if df_shot[null_cols].isnull().sum()[col] > 0.5 * total_len:\n",
    "            null_shot_list.append(shot)\n",
    "            null_col_list.append(col)\n",
    "            \n",
    "summary = {\n",
    "    \"shot\" : null_shot_list,\n",
    "    \"col\" : null_col_list\n",
    "}\n",
    "\n",
    "summary = pd.DataFrame(summary)"
   ]
  },
  {
   "cell_type": "code",
   "execution_count": null,
   "metadata": {},
   "outputs": [],
   "source": [
    "len(shot_list)"
   ]
  },
  {
   "cell_type": "code",
   "execution_count": null,
   "metadata": {},
   "outputs": [],
   "source": [
    "summary.col.value_counts()"
   ]
  },
  {
   "cell_type": "code",
   "execution_count": null,
   "metadata": {},
   "outputs": [],
   "source": [
    "summary.col.value_counts()[config.TS_TE_CORE_COLS ]"
   ]
  },
  {
   "cell_type": "code",
   "execution_count": null,
   "metadata": {},
   "outputs": [],
   "source": [
    "summary.col.value_counts()[config.TS_NE_CORE_COLS]"
   ]
  },
  {
   "cell_type": "code",
   "execution_count": null,
   "metadata": {},
   "outputs": [],
   "source": [
    "summary.col.value_counts()[config.TS_TE_EDGE_COLS ]"
   ]
  },
  {
   "cell_type": "code",
   "execution_count": null,
   "metadata": {},
   "outputs": [],
   "source": [
    "summary.col.value_counts()[config.TS_NE_EDGE_COLS ]"
   ]
  },
  {
   "cell_type": "code",
   "execution_count": null,
   "metadata": {},
   "outputs": [],
   "source": [
    "summary.col.value_counts()[config.LM ]"
   ]
  },
  {
   "cell_type": "code",
   "execution_count": null,
   "metadata": {},
   "outputs": [],
   "source": [
    "summary.col.value_counts()[config.DL]"
   ]
  },
  {
   "cell_type": "code",
   "execution_count": null,
   "metadata": {},
   "outputs": [],
   "source": [
    "summary.col.value_counts()[config.RC]"
   ]
  },
  {
   "cell_type": "code",
   "execution_count": null,
   "metadata": {},
   "outputs": [],
   "source": [
    "summary.col.value_counts()[config.HCM]"
   ]
  },
  {
   "cell_type": "code",
   "execution_count": null,
   "metadata": {},
   "outputs": [],
   "source": [
    "summary.col.value_counts()[config.TCI]"
   ]
  },
  {
   "cell_type": "code",
   "execution_count": null,
   "metadata": {},
   "outputs": [],
   "source": [
    "summary.col.value_counts()[config.HA]"
   ]
  },
  {
   "cell_type": "code",
   "execution_count": null,
   "metadata": {},
   "outputs": [],
   "source": [
    "ignore_col_list = []\n",
    "for col in np.unique(summary.col):\n",
    "    if summary.col.value_counts()[col] > 30:\n",
    "        ignore_col_list.append(col)"
   ]
  },
  {
   "cell_type": "code",
   "execution_count": null,
   "metadata": {},
   "outputs": [],
   "source": [
    "len(ignore_col_list)"
   ]
  },
  {
   "cell_type": "code",
   "execution_count": null,
   "metadata": {},
   "outputs": [],
   "source": [
    "summary.shot.value_counts()"
   ]
  },
  {
   "cell_type": "code",
   "execution_count": null,
   "metadata": {},
   "outputs": [],
   "source": [
    "ignore_shot_list = []\n",
    "for shot in np.unique(summary.shot):\n",
    "    if summary.shot.value_counts()[shot] > 30:\n",
    "        ignore_shot_list.append(shot)"
   ]
  },
  {
   "cell_type": "code",
   "execution_count": null,
   "metadata": {},
   "outputs": [],
   "source": [
    "len(ignore_shot_list)"
   ]
  },
  {
   "cell_type": "code",
   "execution_count": null,
   "metadata": {},
   "outputs": [],
   "source": [
    "summary[summary.shot == 22971]"
   ]
  },
  {
   "cell_type": "code",
   "execution_count": null,
   "metadata": {},
   "outputs": [],
   "source": [
    "summary[summary.shot == 22970]"
   ]
  },
  {
   "cell_type": "code",
   "execution_count": null,
   "metadata": {},
   "outputs": [],
   "source": [
    "import numpy as np\n",
    "from tqdm.auto import tqdm\n",
    "\n",
    "shot_list = np.unique(df.shot)\n",
    "shot_ignore = []\n",
    "total_cols = config.DEFAULT_COLS + config.LM + config.HCM + config.DL + config.LV + config.RC + config.TCI + config.HA + config.TS\n",
    "total_cols = [col for col in total_cols if col not in config.EXCEPT_COLS]\n",
    "    \n",
    "for shot in tqdm(shot_list, desc = 'remove the invalid values'):\n",
    "    # dataframe per shot\n",
    "    df_shot = df[df.shot==shot]\n",
    "    \n",
    "    # time length of the experiment is too short : at least larger than 2(s)\n",
    "    if df_shot.time.iloc[-1] - df_shot.time.iloc[0] < 2.0:\n",
    "        shot_ignore.append(shot)\n",
    "        print(\"shot : {} - time length issue\".format(shot))\n",
    "        continue\n",
    "    \n",
    "    # 1st filter : null data ignore\n",
    "    is_null = False\n",
    "    for col in total_cols:\n",
    "        if df_shot[total_cols].isnull().sum()[col] > 0.5 * len(df_shot):\n",
    "            shot_ignore.append(shot)\n",
    "            print(\"shot : {} - null data ignore\".format(shot))\n",
    "            is_null = True\n",
    "            break\n",
    "    \n",
    "    if is_null:\n",
    "        continue\n",
    "    \n",
    "    # 2nd filter : measurement error\n",
    "    for col in config.DEFAULT_COLS:\n",
    "        # null data\n",
    "        if np.sum(df_shot[col] == 0) > 0.5 * len(df_shot):\n",
    "            shot_ignore.append(shot)\n",
    "            print(\"shot : {} - measurement issue\".format(shot))\n",
    "            break\n",
    "        \n",
    "        # constant value\n",
    "        if df_shot[col].max() - df_shot[col].min() < 1e-3:\n",
    "            shot_ignore.append(shot)\n",
    "            print(\"shot : {} - invalid / constant value issue\".format(shot))\n",
    "            break"
   ]
  },
  {
   "cell_type": "code",
   "execution_count": null,
   "metadata": {},
   "outputs": [],
   "source": [
    "df_shot = df[df.shot == 32565]\n",
    "df_shot[total_cols].isnull().sum()"
   ]
  },
  {
   "cell_type": "code",
   "execution_count": null,
   "metadata": {},
   "outputs": [],
   "source": [
    "for col in total_cols:\n",
    "    if df_shot[total_cols].isnull().sum()[col] > 0.5 * len(df_shot):\n",
    "        print(col) "
   ]
  },
  {
   "cell_type": "code",
   "execution_count": null,
   "metadata": {},
   "outputs": [],
   "source": [
    "import pandas as pd\n",
    "\n",
    "df = pd.read_csv(\"./dataset/KSTAR_Disruption_ts_data_revised.csv\")\n",
    "kstar_shot_list = pd.read_csv('./dataset/KSTAR_Disruption_Shot_List_2022.csv', encoding = \"euc-kr\")"
   ]
  },
  {
   "cell_type": "code",
   "execution_count": null,
   "metadata": {},
   "outputs": [],
   "source": [
    "import numpy as np\n",
    "import warnings\n",
    "warnings.filterwarnings(action = \"ignore\")\n",
    "\n",
    "shot_list = df.shot.unique()\n",
    "shot_list = [shot for shot in shot_list if shot in kstar_shot_list.shot.unique()]\n",
    "\n",
    "disruption_data = None\n",
    "\n",
    "for shot in shot_list:\n",
    "    t_tmq = kstar_shot_list[kstar_shot_list.shot == shot].t_tmq.values[0]\n",
    "    t_ip_min_fault = kstar_shot_list[kstar_shot_list.shot == shot].t_ip_min_fault.values[0]\n",
    "    \n",
    "    df_shot = df_extend[df_extend.shot==shot].copy()\n",
    "    \n",
    "    if len(df_shot) == 0:\n",
    "        continue\n",
    "    \n",
    "    if df_shot.time.max() < t_tmq:\n",
    "        continue\n",
    "    \n",
    "    df_shot['t_tmq'] = [t_tmq for _ in range(len(df_shot))]\n",
    "    df_shot['t_ip_min_fault'] = [t_ip_min_fault for _ in range(len(df_shot))]\n",
    "    \n",
    "    if disruption_data is None:\n",
    "        disruption_data = df_shot\n",
    "    else:\n",
    "        disruption_data = pd.concat((disruption_data, df_shot), axis = 0)\n",
    "        \n",
    "disruption_data['disruptive_tq'] = disruption_data['time'] >= disruption_data['t_tmq']\n",
    "disruption_data['disruptive_cq'] = disruption_data['time'] >= disruption_data['t_ip_min_fault']"
   ]
  },
  {
   "cell_type": "code",
   "execution_count": null,
   "metadata": {},
   "outputs": [],
   "source": [
    "disruption_data['disruptive_cq'] = disruption_data['time'] >= disruption_data['t_ip_min_fault'] - 0.05"
   ]
  },
  {
   "cell_type": "code",
   "execution_count": null,
   "metadata": {},
   "outputs": [],
   "source": [
    "from src.config import Config\n",
    "config = Config()\n",
    "input_features = config.input_features\n",
    "\n",
    "disruption_data[[\"shot\", \"time\", \"disruptive_tq\", \"disruptive_cq\"] + input_features].head()"
   ]
  },
  {
   "cell_type": "code",
   "execution_count": null,
   "metadata": {},
   "outputs": [],
   "source": [
    "test_shot = 21310\n",
    "shot_list = np.unique(disruption_data.shot.values)\n",
    "shot_list = np.array([shot for shot in shot_list if int(shot) != test_shot])\n",
    "\n",
    "from sklearn.model_selection import train_test_split\n",
    "shot_train, shot_test = train_test_split(shot_list, test_size = 0.2, random_state = 42)\n",
    "\n",
    "df_train = pd.DataFrame()\n",
    "df_test = pd.DataFrame()\n",
    "\n",
    "for shot in shot_train:\n",
    "    df_train = pd.concat([df_train, disruption_data[disruption_data.shot == shot]], axis = 0)\n",
    "\n",
    "for shot in shot_test:\n",
    "    df_test = pd.concat([df_test, disruption_data[disruption_data.shot == shot]], axis = 0)"
   ]
  },
  {
   "cell_type": "code",
   "execution_count": null,
   "metadata": {},
   "outputs": [],
   "source": [
    "from sklearn.ensemble import RandomForestClassifier\n",
    "from sklearn.metrics import f1_score\n",
    "\n",
    "x_train, y_train = df_train[input_features].values, df_train['disruptive_cq'].values\n",
    "x_test, y_test = df_test[input_features].values, df_test['disruptive_cq'].values\n",
    "\n",
    "rfc = RandomForestClassifier(n_estimators=128, n_jobs = 32)\n",
    "rfc.fit(x_train, y_train)\n",
    "\n",
    "y_train_pred = rfc.predict(x_train)\n",
    "y_test_pred = rfc.predict(x_test)"
   ]
  },
  {
   "cell_type": "code",
   "execution_count": null,
   "metadata": {},
   "outputs": [],
   "source": [
    "print(\"f1 score for train : {:.3f}\".format(f1_score(y_train, y_train_pred, average = 'macro')))\n",
    "print(\"f1 score for test : {:.3f}\".format(f1_score(y_test, y_test_pred, average = 'macro')))"
   ]
  },
  {
   "cell_type": "code",
   "execution_count": null,
   "metadata": {},
   "outputs": [],
   "source": [
    "importance = rfc.feature_importances_"
   ]
  },
  {
   "cell_type": "code",
   "execution_count": null,
   "metadata": {},
   "outputs": [],
   "source": [
    "import pandas as pd\n",
    "import matplotlib.pyplot as plt\n",
    "\n",
    "forest_importances = pd.Series(importance, index=input_features)\n",
    "\n",
    "fig, ax = plt.subplots()\n",
    "forest_importances.plot.bar()\n",
    "ax.set_title(\"Feature importances\")\n",
    "ax.set_ylabel(\"Mean decrease in impurity\")\n",
    "fig.tight_layout()"
   ]
  },
  {
   "cell_type": "code",
   "execution_count": null,
   "metadata": {},
   "outputs": [],
   "source": [
    "df_shot = disruption_data[disruption_data.shot == 21310]\n",
    "\n",
    "x_input = df_shot[input_features].values\n",
    "probs = rfc.predict(x_input)\n",
    "\n",
    "fig, ax = plt.subplots(1,1,figsize = (8,6))\n",
    "\n",
    "time_x = df_shot.time.values\n",
    "t_tq = df_shot.t_tmq.values[0]\n",
    "t_ip = df_shot.t_ip_min_fault.values[0]\n",
    "\n",
    "ax.plot(time_x, probs, label = 'probability')\n",
    "ax.axvline(t_tq, ymin = 0, ymax = 1, c = 'r', label = 'thermal quench')\n",
    "ax.axvline(t_ip, ymin = 0, ymax = 1, c = 'k', label = 'current quench')\n",
    "ax.set_xlabel(\"time(s)\")\n",
    "ax.set_ylabel(\"prob\")\n",
    "ax.set_xlim([5.0, 6.0])\n",
    "ax.legend()\n",
    "fig.tight_layout()\n",
    "plt.show()"
   ]
  },
  {
   "cell_type": "code",
   "execution_count": null,
   "metadata": {},
   "outputs": [],
   "source": [
    "import numpy as np\n",
    "import warnings\n",
    "warnings.filterwarnings(action = \"ignore\")\n",
    "\n",
    "shot_list = df.shot.unique()\n",
    "shot_list = [shot for shot in shot_list if shot in kstar_shot_list.shot.unique()]\n",
    "\n",
    "disruption_data = None\n",
    "\n",
    "for shot in shot_list:\n",
    "    t_tmq = kstar_shot_list[kstar_shot_list.shot == shot].t_tmq.values[0]\n",
    "    t_ip_min_fault = kstar_shot_list[kstar_shot_list.shot == shot].t_ip_min_fault.values[0]\n",
    "    \n",
    "    df_shot = df[df.shot==shot]\n",
    "    \n",
    "    if len(df_shot) == 0:\n",
    "        continue\n",
    "    \n",
    "    if df_shot.time.max() < t_tmq:\n",
    "        continue\n",
    "    \n",
    "    df_shot['t_tmq'] = [t_tmq for _ in range(len(df_shot))]\n",
    "    df_shot['t_ip_min_fault'] = [t_ip_min_fault for _ in range(len(df_shot))]\n",
    "    \n",
    "    df_interval = df_shot[(df_shot.time >= t_tmq) & (df_shot.time <= t_ip_min_fault)]\n",
    "    \n",
    "    if disruption_data is None:\n",
    "        disruption_data = df_interval\n",
    "    else:\n",
    "        disruption_data = pd.concat((disruption_data, df_interval), axis = 0)"
   ]
  },
  {
   "cell_type": "code",
   "execution_count": null,
   "metadata": {},
   "outputs": [],
   "source": [
    "disruption_data = disruption_data.drop(\"Unnamed: 0\", axis = 1)"
   ]
  },
  {
   "cell_type": "code",
   "execution_count": null,
   "metadata": {},
   "outputs": [],
   "source": [
    "disruption_data.sort_values(by = ['shot', 'time'])"
   ]
  },
  {
   "cell_type": "code",
   "execution_count": null,
   "metadata": {},
   "outputs": [],
   "source": [
    "disruption_data.to_csv(\"./dataset/KSTAR_Disruption_Shot_Info_2022.csv\")"
   ]
  },
  {
   "cell_type": "code",
   "execution_count": null,
   "metadata": {},
   "outputs": [],
   "source": [
    "import pandas as pd\n",
    "disruption_data = pd.read_csv(\"./dataset/KSTAR_Disruption_Shot_Info_2022.csv\")\n",
    "disruption_data[disruption_data.shot == 21310]"
   ]
  },
  {
   "cell_type": "code",
   "execution_count": null,
   "metadata": {},
   "outputs": [],
   "source": [
    "import numpy as np\n",
    "import seaborn as sns\n",
    "\n",
    "disruption_data['dt_tq_cq'] = disruption_data['t_ip_min_fault'] - disruption_data['t_tmq']"
   ]
  },
  {
   "cell_type": "code",
   "execution_count": null,
   "metadata": {},
   "outputs": [],
   "source": [
    "temp = disruption_data.groupby(by = 'shot').mean() * 1000\n",
    "\n",
    "import matplotlib.pyplot as plt\n",
    "sns.histplot(data = temp, x = 'dt_tq_cq')\n",
    "plt.xlabel('time(unit:ms)')"
   ]
  },
  {
   "cell_type": "code",
   "execution_count": null,
   "metadata": {},
   "outputs": [],
   "source": [
    "temp['dt_tq_cq'].describe()"
   ]
  },
  {
   "cell_type": "code",
   "execution_count": null,
   "metadata": {},
   "outputs": [],
   "source": [
    "import matplotlib.pyplot as plt\n",
    "temp = df[(df.shot == 21310) & (df.time >= 5.10)]\n",
    "plt.plot(temp.time, temp['\\\\aminor'])"
   ]
  },
  {
   "cell_type": "code",
   "execution_count": null,
   "metadata": {},
   "outputs": [],
   "source": [
    "temp = df_extend[(df_extend.shot == 21310) & (df_extend.time >= 5.10)]\n",
    "plt.plot(temp.time, temp['\\\\aminor'])"
   ]
  },
  {
   "cell_type": "code",
   "execution_count": null,
   "metadata": {},
   "outputs": [],
   "source": [
    "cols = [\n",
    "     'shot',\n",
    "     '\\\\q95','\\\\ipmhd','\\\\kappa','\\\\tritop','\\\\tribot','\\\\betap','\\\\betan',\n",
    "     '\\\\li','\\\\bcentr','\\\\rsurf','\\\\aminor','\\\\LM01','\\\\LM02','\\\\LM03','\\\\LM04',\n",
    "     '\\\\DLM03','\\\\WTOT_DLM03','\\\\LV01','\\\\LV12','\\\\LV23','\\\\LV34','\\\\LV45','\\\\RC03','\\\\VCM03','\\\\ne_inter01'\n",
    "]\n",
    "\n",
    "cols = [\n",
    "     'shot',\n",
    "     '\\\\q95', '\\\\ipmhd', '\\\\kappa', '\\\\tritop', '\\\\tribot',\n",
    "     '\\\\betap','\\\\li', '\\\\WTOT_DLM03', '\\\\ne_inter01',\n",
    "     '\\\\DLM03', '\\\\RC03', '\\\\VCM03'\n",
    "]"
   ]
  },
  {
   "cell_type": "code",
   "execution_count": null,
   "metadata": {},
   "outputs": [],
   "source": [
    "from sklearn.cluster import KMeans\n",
    "import numpy as np\n",
    "\n",
    "train_data = disruption_data[cols]\n",
    "train_data = train_data.dropna(axis = 0)\n",
    "train_data = train_data.drop('shot', axis = 1)\n",
    "model = KMeans(n_clusters = 4, max_iter=1024)\n",
    "labels = model.fit_predict(train_data.values)"
   ]
  },
  {
   "cell_type": "code",
   "execution_count": null,
   "metadata": {},
   "outputs": [],
   "source": [
    "train_data"
   ]
  },
  {
   "cell_type": "code",
   "execution_count": null,
   "metadata": {},
   "outputs": [],
   "source": [
    "np.unique(labels)"
   ]
  },
  {
   "cell_type": "code",
   "execution_count": null,
   "metadata": {},
   "outputs": [],
   "source": [
    "import matplotlib.pyplot as plt\n",
    "from sklearn.decomposition import PCA\n",
    "from sklearn.manifold import TSNE\n",
    "\n",
    "# compressed_data = PCA(n_components=2).fit_transform(train_data.values)\n",
    "embedding_model = TSNE(n_components=2)\n",
    "compressed_data = embedding_model.fit_transform(train_data.values)\n",
    "x1, x2 = compressed_data[:,0], compressed_data[:,1]\n",
    "\n",
    "fig, ax = plt.subplots(1,1, figsize = (8,6))\n",
    "\n",
    "clusters = np.unique(labels)\n",
    "\n",
    "for cluster in clusters:\n",
    "    indices = np.where(labels == cluster)\n",
    "    ax.scatter(x1[indices],x2[indices], label = \"Group-{}\".format(cluster))\n",
    "\n",
    "plt.legend()\n",
    "fig.tight_layout()\n",
    "plt.show()"
   ]
  },
  {
   "cell_type": "code",
   "execution_count": null,
   "metadata": {},
   "outputs": [],
   "source": [
    "# what happen to group 3?\n",
    "indices = np.where(labels == 2)\n",
    "disruption_data.iloc[indices]"
   ]
  },
  {
   "cell_type": "code",
   "execution_count": null,
   "metadata": {},
   "outputs": [],
   "source": [
    "normal_data = df[(df.shot == 21633) & (df.time < 5.07)][cols]\n",
    "normal_data = normal_data.dropna(axis = 0)\n",
    "normal_data = normal_data.drop('shot', axis = 1)\n",
    "\n",
    "total_data = np.concatenate((train_data.values, normal_data.values), axis = 0)\n",
    "\n",
    "compressed_data = embedding_model.fit_transform(total_data)\n",
    "labels = np.concatenate((labels, np.array([4 for _ in range(len(normal_data))])))\n",
    "\n",
    "x1, x2 = compressed_data[:,0], compressed_data[:,1]\n",
    "\n",
    "fig, ax = plt.subplots(1,1, figsize = (8,6))\n",
    "\n",
    "clusters = np.unique(labels)\n",
    "\n",
    "for cluster in clusters:\n",
    "    indices = np.where(labels == cluster)\n",
    "    ax.scatter(x1[indices],x2[indices], label = \"Group-{}\".format(cluster))\n",
    "\n",
    "plt.legend()\n",
    "fig.tight_layout()\n",
    "plt.show()"
   ]
  },
  {
   "cell_type": "code",
   "execution_count": null,
   "metadata": {},
   "outputs": [],
   "source": [
    "# what happen to group 1?\n",
    "indices = np.where(labels == 1)\n",
    "disruption_data.iloc[indices]"
   ]
  },
  {
   "cell_type": "code",
   "execution_count": null,
   "metadata": {},
   "outputs": [],
   "source": [
    "disruption_data[disruption_data.shot == 29055]"
   ]
  },
  {
   "cell_type": "code",
   "execution_count": null,
   "metadata": {},
   "outputs": [],
   "source": [
    "shot = 29055\n",
    "time_x = df[df.shot == shot].time\n",
    "signal = df[df.shot == shot]['\\\\LM01'].values\n",
    "\n",
    "t_tmq = kstar_shot_list[kstar_shot_list.shot == shot].t_tmq.values[0]\n",
    "t_ip_min_fault = kstar_shot_list[kstar_shot_list.shot == shot].t_ip_min_fault.values[0]\n",
    "plt.plot(time_x, signal)\n",
    "plt.axvline(x = t_tmq, ymin = 0, ymax = 1, color = \"red\", linestyle = \"dashed\")\n",
    "plt.axvline(x = t_ip_min_fault, ymin = 0, ymax = 1, color = \"black\", linestyle = \"dashed\")"
   ]
  },
  {
   "cell_type": "code",
   "execution_count": null,
   "metadata": {},
   "outputs": [],
   "source": [
    "shot = 29055\n",
    "time_x = df[df.shot == shot].time\n",
    "signal = df[df.shot == shot]['\\\\LM04'].values\n",
    "\n",
    "t_tmq = kstar_shot_list[kstar_shot_list.shot == shot].t_tmq.values[0]\n",
    "t_ip_min_fault = kstar_shot_list[kstar_shot_list.shot == shot].t_ip_min_fault.values[0]\n",
    "plt.plot(time_x, signal)\n",
    "plt.axvline(x = t_tmq, ymin = 0, ymax = 1, color = \"red\", linestyle = \"dashed\")\n",
    "plt.axvline(x = t_ip_min_fault, ymin = 0, ymax = 1, color = \"black\", linestyle = \"dashed\")"
   ]
  },
  {
   "cell_type": "code",
   "execution_count": null,
   "metadata": {},
   "outputs": [],
   "source": [
    "shot = 21392\n",
    "time_x = df[df.shot == shot].time\n",
    "signal = df[df.shot == shot]['\\\\LM04'].values\n",
    "\n",
    "t_tmq = kstar_shot_list[kstar_shot_list.shot == shot].t_tmq.values[0]\n",
    "t_ip_min_fault = kstar_shot_list[kstar_shot_list.shot == shot].t_ip_min_fault.values[0]\n",
    "plt.plot(time_x, signal)\n",
    "plt.axvline(x = t_tmq, ymin = 0, ymax = 1, color = \"red\", linestyle = \"dashed\")\n",
    "plt.axvline(x = t_ip_min_fault, ymin = 0, ymax = 1, color = \"black\", linestyle = \"dashed\")"
   ]
  },
  {
   "cell_type": "code",
   "execution_count": null,
   "metadata": {},
   "outputs": [],
   "source": [
    "shot = 21310\n",
    "time_x = df[df.shot == shot].time\n",
    "signal = df[df.shot == shot]['\\\\LM04'].values\n",
    "\n",
    "t_tmq = kstar_shot_list[kstar_shot_list.shot == shot].t_tmq.values[0]\n",
    "t_ip_min_fault = kstar_shot_list[kstar_shot_list.shot == shot].t_ip_min_fault.values[0]\n",
    "plt.plot(time_x, signal)\n",
    "plt.axvline(x = t_tmq, ymin = 0, ymax = 1, color = \"red\", linestyle = \"dashed\")\n",
    "plt.axvline(x = t_ip_min_fault, ymin = 0, ymax = 1, color = \"black\", linestyle = \"dashed\")"
   ]
  },
  {
   "cell_type": "code",
   "execution_count": null,
   "metadata": {},
   "outputs": [],
   "source": [
    "shot = 29055\n",
    "time_x = df[df.shot == shot].time\n",
    "signal = df[df.shot == shot]['\\\\POL_HA10'].values\n",
    "\n",
    "t_tmq = kstar_shot_list[kstar_shot_list.shot == shot].t_tmq.values[0]\n",
    "t_ip_min_fault = kstar_shot_list[kstar_shot_list.shot == shot].t_ip_min_fault.values[0]\n",
    "plt.plot(time_x, signal) \n",
    "plt.axvline(x = t_tmq, ymin = 0, ymax = 1, color = \"red\", linestyle = \"dashed\")\n",
    "plt.axvline(x = t_ip_min_fault, ymin = 0, ymax = 1, color = \"black\", linestyle = \"dashed\")"
   ]
  },
  {
   "cell_type": "code",
   "execution_count": null,
   "metadata": {},
   "outputs": [],
   "source": [
    "shot = 29062\n",
    "time_x = df[df.shot == shot].time\n",
    "signal = df[df.shot == shot]['\\\\POL_HA10'].values\n",
    "\n",
    "t_tmq = kstar_shot_list[kstar_shot_list.shot == shot].t_tmq.values[0]\n",
    "t_ip_min_fault = kstar_shot_list[kstar_shot_list.shot == shot].t_ip_min_fault.values[0]\n",
    "plt.plot(time_x, signal)\n",
    "plt.axvline(x = t_tmq, ymin = 0, ymax = 1, color = \"red\", linestyle = \"dashed\")\n",
    "plt.axvline(x = t_ip_min_fault, ymin = 0, ymax = 1, color = \"black\", linestyle = \"dashed\")"
   ]
  },
  {
   "cell_type": "code",
   "execution_count": null,
   "metadata": {},
   "outputs": [],
   "source": [
    "shot = 21392\n",
    "time_x = df[df.shot == shot].time\n",
    "signal = df[df.shot == shot]['\\\\POL_HA10'].values\n",
    "\n",
    "t_tmq = kstar_shot_list[kstar_shot_list.shot == shot].t_tmq.values[0]\n",
    "t_ip_min_fault = kstar_shot_list[kstar_shot_list.shot == shot].t_ip_min_fault.values[0]\n",
    "plt.plot(time_x, signal)\n",
    "plt.axvline(x = t_tmq, ymin = 0, ymax = 1, color = \"red\", linestyle = \"dashed\")\n",
    "plt.axvline(x = t_ip_min_fault, ymin = 0, ymax = 1, color = \"black\", linestyle = \"dashed\")"
   ]
  }
 ],
 "metadata": {
  "kernelspec": {
   "display_name": "research-env",
   "language": "python",
   "name": "python3"
  },
  "language_info": {
   "codemirror_mode": {
    "name": "ipython",
    "version": 3
   },
   "file_extension": ".py",
   "mimetype": "text/x-python",
   "name": "python",
   "nbconvert_exporter": "python",
   "pygments_lexer": "ipython3",
   "version": "3.9.12"
  },
  "orig_nbformat": 4
 },
 "nbformat": 4,
 "nbformat_minor": 2
}
